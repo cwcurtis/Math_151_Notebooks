{
 "cells": [
  {
   "cell_type": "markdown",
   "metadata": {},
   "source": [
    "## 3.11 - Hyperbolic Trig Functions\n",
    "\n",
    "So everything starts from the two definitions\n",
    "\n",
    "$$\n",
    "\\sinh(x) = \\frac{1}{2}\\left(e^{x} - e^{-x} \\right), ~ \\cosh(x) = \\frac{1}{2}\\left(e^{x} + e^{-x} \\right)\n",
    "$$\n",
    "\n",
    "From these, we get the functions \n",
    "\n",
    "$$\n",
    "\\tanh(x) = \\frac{\\sinh(x)}{\\cosh(x)}, ~ \\text{csch}(x) = \\frac{1}{\\sinh(x)}, ~ \\text{sech}(x) = \\frac{1}{\\cosh(x)}, ~ \\text{coth}(x) = \\frac{1}{\\tanh(x)}.\n",
    "$$\n",
    "\n",
    "We see that :\n",
    "> $\\sinh(x)$ is odd. \n",
    "Proof\n",
    "$$\n",
    "\\sinh(-x) = \\frac{1}{2}\\left(e^{-x} -e^{x} \\right) = -\\frac{1}{2}\\left(-e^{-x} + e^{x}\\right) = -\\sinh(x)\n",
    "$$\n",
    "\n",
    "> $\\cosh(x)$ is even.\n",
    "Proof\n",
    "$$\n",
    "\\cosh(-x) = \\frac{1}{2}\\left(e^{-x} + e^{x} \\right)= \\cosh(x).\n",
    "$$\n",
    "\n",
    "More importantly we have some really essential identities with the hyperbolic trig functions.  The most essential one is the following:\n",
    "> $\\cosh^{2}(t) - \\sinh^{2}(t) = 1$.  Proof\n",
    "\\begin{align*}\n",
    "\\cosh^{2}(t) - \\sinh^{2}(t) = & \\frac{1}{4}\\left(e^{2t} + e^{-2t} + 2\\right) - \\frac{1}{4}\\left(e^{2t} + e^{-2t} - 2\\right)\\\\\n",
    "= & \\frac{1}{4}\\left(e^{2t} + e^{-2t} \\right) - \\frac{1}{4}\\left(e^{2t} + e^{-2t}\\right) + \\frac{2}{4} + \\frac{2}{4} \\\\\n",
    "= & 1 \n",
    "\\end{align*}\n",
    "\n",
    "This identity allows us to use the hyperbolic trig functions to parametrize the hyperbola $x^{2}-y^{2}=1$ in the same way we use the trig functions $(\\cos(a),\\sin(a))$ to parametrize the circle $x^{2} + y^{2} = 1$.  That is to say, if we think of $(\\cosh(a),\\sinh(a))$ in the $(x,y)$ plane, then that point must lie on the hyperbola \n",
    "\n",
    "![](https://upload.wikimedia.org/wikipedia/commons/b/bc/Hyperbolic_functions-2.svg)"
   ]
  },
  {
   "cell_type": "markdown",
   "metadata": {},
   "source": [
    "**Show**: $1-\\tanh^{2}(t) = \\text{sech}^{2}(t)$."
   ]
  },
  {
   "cell_type": "markdown",
   "metadata": {},
   "source": [
    "### Derivatives of Hyperbolic Trig Functions\n",
    "\n",
    "So, given the fundamental identities\n",
    "\n",
    "$$\n",
    "\\frac{d}{dx}e^{x} = e^{x}, ~ \\frac{d}{dx}e^{-x} = -e^{-x}\n",
    "$$\n",
    "\n",
    "**Problem**: Show  \n",
    "\n",
    "$$\n",
    "\\frac{d}{dx}\\sinh(x) = \\cosh(x), ~ \\frac{d}{dx}\\cosh(x) = \\sinh(x), ~ \\frac{d}{dx}\\tanh(x) = \\text{sech}^{2}(x)\n",
    "$$"
   ]
  },
  {
   "cell_type": "markdown",
   "metadata": {},
   "source": [
    "### Inverse Hyperbolic Trig Functions\n",
    "\n",
    "We won't get too into these, but it is instructive to hang out with them for a second.  \n",
    "\n",
    "**Problem**: Show that $\\sinh^{-1}(x) = \\ln\\left(x + \\sqrt{1+x^{2}} \\right)$\n",
    "\n",
    "* To do this, you need to use the classic $y=\\sinh^{-1}(x)$ thus $x = \\sinh(y)$ trick.  \n",
    "* From this, show that $e^{2y} - 2xe^{y} - 1= 0$.  This can also be written as $(e^{y})^{2}-2x(e^{y}) - 1 = 0$.\n",
    "* Using the quadratic equation, solve for $e^{y}$.  Yes, I mean that, and yes you can do it.  It's weird though, granted.\n",
    "* Now, you will need to pick between the \"+\" and \"-\".  Why one or the other?  There is a right answer here.  \n",
    "* Take a logarithm, and now you're done.  \n",
    "\n",
    "**Problem**: Show that $\\cosh^{-1}(x) = \\ln\\left(x + \\sqrt{x^{2}-1} \\right)$\n",
    "\n",
    "* To do this, you need to use the classic $y=\\cosh^{-1}(x)$ thus $x = \\cosh(y)$ trick.  \n",
    "* From this, show that $e^{2y} - 2xe^{y} + 1= 0$.  This can also be written as $(e^{y})^{2}-2x(e^{y}) + 1 = 0$.\n",
    "* Using the quadratic equation, solve for $e^{y}$.  Yes, I mean that, and yes you can do it.  It's weird though, granted.\n",
    "* Now, you will need to pick between the \"+\" and \"-\".  Why one or the other?  There is a right answer here.  \n",
    "* Take a logarithm, and now you're done.  \n",
    "\n",
    "**Problem**: Show that $\\frac{d}{dx}\\sinh^{-1}(x) = \\frac{1}{\\sqrt{1+x^{2}}}$\n",
    "* To do this, you need to use the classic $y=\\sinh^{-1}(x)$ thus $x = \\sinh(y)$ trick.  \n",
    "* Then differentiate implicitly.  \n",
    "* Then if you have $x=\\sinh(y)$ and $\\cosh^{2}(y) - \\sinh^{2}(y)=1$, what is $\\cosh(y)$?"
   ]
  },
  {
   "cell_type": "markdown",
   "metadata": {},
   "source": [
    "## 6.1 - The Area under a Curve"
   ]
  },
  {
   "cell_type": "markdown",
   "metadata": {},
   "source": [
    "So suppose I want to find the area between two functions $g(x)\\leq y \\leq f(x)$ on the interval $a\\leq x \\leq b$.  How might we do this?  \n",
    "\n",
    "![](area_between_curves.png)\n",
    "\n",
    "Well, let's briefly remind ourselves how we did this for finding the area under a curve (AOC) when $0\\leq y \\leq f(x)$.  This was done via definite integration, which is a limit of _Riemann Sums_.  In technical terms, we have \n",
    "\n",
    "$$\n",
    "\\text{Area under} f(x)\\geq 0 ~\\text{for} a\\leq x \\leq b = \\int_{a}^{b}f(x) dx = \\lim_{n\\rightarrow \\infty}\\sum_{j=0}^{n}f(x^{\\ast}_{j})(x_{j+1}-x_{j}).\n",
    "$$\n",
    "\n",
    "Here $a\\leq x_{j}\\lt x_{j+1} \\leq b$ and $x_{j}\\leq x^{\\ast}_{j}\\leq x_{j+1}$.  \n",
    "\n",
    "So for example, if $f(x)=x^{2}$ we can readily find the AOC over $0\\leq x \\leq 2$ by finding \n",
    "\n",
    "$$\n",
    "\\int_{0}^{2}x^{2}dx = \\left.\\frac{1}{3}x^{3}\\right|_{0}^{2} = \\frac{8}{3}.\n",
    "$$\n",
    "\n",
    "If we were to look at this via limits though, we might try to understand it via the following animation\n",
    "\n",
    "![](https://upload.wikimedia.org/wikipedia/commons/0/0f/Riemann_sum_%28y%3Dx%5E2%29.gif)"
   ]
  },
  {
   "cell_type": "markdown",
   "metadata": {},
   "source": [
    "So in that same vein, if we look between $g(x)\\leq y \\leq f(x)$, we see we would want to do the following \n",
    "\n",
    "![](approximate_between.png)\n",
    "\n",
    "If we call the quantity we're interested in the Area Between Curves (ABC) we see that \n",
    "\n",
    "$$\n",
    "ABC \\approx \\sum_{i=1}^{n}\\left(f(x^{\\ast}_{i}) - g(x^{\\ast}_{i}) \\right)\\Delta x\n",
    "$$\n",
    "\n",
    "So taking a limit, we see that we would get \n",
    "\n",
    "$$\n",
    "ABC = \\int_{a}^{b}\\left(f(x) - g(x) \\right)dx.\n",
    "$$\n",
    "\n",
    "**Problem**: On $0\\leq x \\leq 1$, given that $x\\leq e^{x}$, find the ABC.  \n",
    "\n",
    "* To do this, you need to decide which function is $g(x)$ and which is $f(x)$.  Use the figure for guidance. \n",
    "\n",
    "![](example_plot.png)"
   ]
  },
  {
   "cell_type": "markdown",
   "metadata": {},
   "source": [
    "**Problem**: Find the area **enclosed** by $y=x^{2}$ and $y=2x - x^{2}$.  So note, by enclosed, we really mean trapped between.  So to understand what this question is asking, we need to understand what these two functions looks like.  Now $y=x^{2}$ is a parabola that opens up, $y=2x-x^{2}$ is one that opens down.  We also see that $y=2x-x^{2} = x(2-x)$, so we can find it's roots easily to be $x=0$ and $x=2$.  \n",
    "\n",
    "* Make a quick sketch of the two curves and see how they compare to one another.  Can you see the enclosed region?\n",
    "* Find where the two curves intersect one another.  This should happen at two points, say $a$ and $b$.  Find $a$ and $b$.\n",
    "* Over $a\\leq x \\leq b$, which curve is the larger of the two?  \n",
    "* Find the ABC.  \n",
    "\n",
    "![](example_plot_two.png)"
   ]
  },
  {
   "cell_type": "code",
   "execution_count": null,
   "metadata": {},
   "outputs": [],
   "source": []
  }
 ],
 "metadata": {
  "kernelspec": {
   "display_name": "Python 3",
   "language": "python",
   "name": "python3"
  },
  "language_info": {
   "codemirror_mode": {
    "name": "ipython",
    "version": 3
   },
   "file_extension": ".py",
   "mimetype": "text/x-python",
   "name": "python",
   "nbconvert_exporter": "python",
   "pygments_lexer": "ipython3",
   "version": "3.8.3"
  }
 },
 "nbformat": 4,
 "nbformat_minor": 4
}
