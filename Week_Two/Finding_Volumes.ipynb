{
 "cells": [
  {
   "cell_type": "markdown",
   "metadata": {},
   "source": [
    "## 6.1 Continued \n",
    "\n",
    "Now what if we have this scenario?\n",
    "\n",
    "![](wiggly_curves.png)\n",
    "\n",
    "Note, over the interval, there is no clear function which is always on top or always on bottom.  So, we must use \n",
    "\n",
    "$$\n",
    "ABC = \\int_{a}^{b}\\left|f(x) - g(x) \\right| dx\n",
    "$$\n",
    "\n",
    "Why?  Because $\\left|f(x) - g(x) \\right| \\geq 0$ no matter what!  Now of course, to deal with these integrals, we need to know where $f(x) = g(x)$.  To wit \n",
    "\n",
    "**Problem**: On $0\\leq x \\leq \\frac{\\pi}{2}$, find the ABC of $y=\\sin(x)$ and $y=\\cos(x)$.  \n",
    "* Again, make a quick plot.  This is critical.  Note $\\sin(0)=0$, $\\sin(\\pi/4)=1/\\sqrt{2}$, $\\sin(\\pi/2)=1$ and $\\cos(0)=1$, $\\cos(\\pi/4)=1/\\sqrt{2}$, $\\cos(\\pi/2)=0$\n",
    "* Now we have that \n",
    "$$\n",
    "ABC = \\int_{0}^{a}\\left(\\cos(x) - \\sin(x)\\right) dx  + \\int_{a}^{\\pi/2}\\left(\\sin(x) - \\cos(x)\\right) dx\n",
    "$$\n",
    "What is $a$?  Now find ABC.\n",
    "\n",
    "![](cossin.png)"
   ]
  },
  {
   "cell_type": "markdown",
   "metadata": {},
   "source": [
    "Now what about if we want to integrate in some truly weirder regions?  Maybe we need to turn things on their side!  \n",
    "\n",
    "**Problem**: Find the area enclosed by the line $y=x-1$ and the parabola $y^{2}=2x+6$.\n",
    "\n",
    "I'm just going to give you the figure here (but always always know how to sketch)\n",
    "\n",
    "![](sideways.png)\n",
    "\n",
    "How would you then find the ABC here?  Note, it's no longer about curve on top or bottom, but curve to the left and curve to the right!  I'll give you a hint (okay it's most of the problem) to get started:\n",
    "\n",
    "$$\n",
    "ABC = \\int_{-2}^{4}\\left(x_{R}(y) - x_{L}(y) \\right) dy\n",
    "$$"
   ]
  },
  {
   "cell_type": "markdown",
   "metadata": {},
   "source": [
    "## 6.2 - Volumes by Discs\n",
    "\n",
    "At its core, computing volume is about multiplying area by height.  To wit \n",
    "\n",
    "![](volumes.png)\n",
    "\n",
    "Now, we can radically generalize this to the following idea \n",
    "\n",
    "![](slabs.png)\n",
    "\n",
    "So if I can find $A(x)$, then we have that \n",
    "\n",
    "$$\n",
    "Volume = \\int_{a}^{b}A(x) dx.  \n",
    "$$\n",
    "\n",
    "Now let the absurd fun begin :)"
   ]
  },
  {
   "cell_type": "markdown",
   "metadata": {},
   "source": [
    "**Problem**: Volume of a sphere.  Suppose I have a sphere of radius $r$.  Using slices, how can we find it's volume?  Now here, I'm going to slightly rearrange the order of presentation in the book.  The idea we are using is the following. \n",
    "\n",
    "![](sphere_disc.png)\n",
    "\n",
    "So I'm thinking of breaking the sphere up into a series of little cylinders where the cylinders are centered on the x-axis.  Now the volume of each little cylinder is $dV = \\pi y^{2} dx$ where $y$ is the radius of the *cylinder* which, by Pythagoras' Theorem must satisfy $x^{2} + y^{2} = r^{2}$.  See the following figure.\n",
    "\n",
    "![](sphere.png)\n",
    "\n",
    "> This works because if I center the sphere at the origin, spinning it around the x-axis leaves the sphere unchanged!!!!!!  SYMMETRY IS KEY HERE!!!!!!!!!!!\n",
    "\n",
    "That's properly weird, and it took me a second of staring at it to believe it.  But when we believe it, we find \n",
    "\n",
    "$$\n",
    "V = \\pi\\int_{-r}^{r}\\left(r^{2} - x^{2} \\right) dx = 2\\pi\\int_{0}^{r}\\left(r^{2} - x^{2} \\right) dx = \\frac{4\\pi}{3}r^{3}.\n",
    "$$\n",
    "\n",
    "But now, let's get upset with the book for a minute, because it is about to take you down a path, and it's not setting you up quite right.  A slicker way to solve the above problem is to note, suppose I start with the semi-circle of radius $r$ in the upper-half of the $(x,y)$ plane.  That is to say I have the function \n",
    "\n",
    "$$\n",
    "y = \\sqrt{r^{2} - x^{2}}, ~ -r \\leq x \\leq r.  \n",
    "$$\n",
    "\n",
    "Now, I can generate a sphere by rotating this half circle around the x-axis.  \n",
    "\n",
    "![](volume_solid_example_2.gif)\n",
    "\n",
    "> SYMMETRY STRIKES AGAIN\n",
    "\n",
    "So now, when I think above finding the volume of the sphere, I see that I can first think, okay a sphere is a half-circle spun around on to itself.  Now I'm still going to think of that as a series of cylinders in the end, but it is much more obvious from the half circle that the radius of each cylinder is given by $y(x)$ and thus \n",
    "\n",
    "$$\n",
    "dV = \\pi y^{2}(x) dx = \\pi \\left(r^{2} - x^{2} \\right) dx\n",
    "$$\n",
    "\n",
    "Now keep in mind, the sphere is a very symmetric object.  I could have picked the y-axis as my axis of revolution.  It doesn't really matter for the sphere because the sphere is the same from almost any direction I care to think of.  \n",
    "\n",
    "> BUT IF WE WANT TO FIND VOLUMES OF LESS SYMMETRIC OBJECTS THEN WE NEED TO THINK ABOUT FINDING THE BEST AXIS OF REVOLUTION!"
   ]
  },
  {
   "cell_type": "markdown",
   "metadata": {},
   "source": [
    "Now in some cases, a problem basically hands you the best axis to choose.  \n",
    "\n",
    "**Problem**: Find the volume of the solid found by rotating $y=\\sqrt{x}$ around the x-axis for $0\\leq x \\leq 1$.\n",
    "\n",
    "![](silly_rotation.png)\n",
    "\n",
    "So again, $dV = \\pi y^{2}(x) dx$ and thus \n",
    "\n",
    "$$\n",
    "V = \\pi \\int_{0}^{1} x dx = \\frac{\\pi}{2}.\n",
    "$$"
   ]
  },
  {
   "cell_type": "markdown",
   "metadata": {},
   "source": [
    "**Problem**: Find the volume of the solid found by rotating $y=x^{3}$, $y=8$, and $x=0$ about the y-axis.  \n",
    "* SKETCH\n",
    "* SKETCH\n",
    "* NO REALLY, SKETCH!!!!!!!!!!!!!!!!!!!!!!!!!!!!!!!!\n",
    "* To do this, we have to think in terms of $dV = \\pi x^{2}(y) dy$\n",
    "\n",
    "\n",
    "![](yrevolve.png)"
   ]
  },
  {
   "cell_type": "markdown",
   "metadata": {},
   "source": [
    "## 6.2/6.3 - Volumes by Washers"
   ]
  },
  {
   "cell_type": "markdown",
   "metadata": {},
   "source": [
    "## 6.2 - Awkward Volumes"
   ]
  },
  {
   "cell_type": "code",
   "execution_count": null,
   "metadata": {},
   "outputs": [],
   "source": []
  }
 ],
 "metadata": {
  "kernelspec": {
   "display_name": "Python 3",
   "language": "python",
   "name": "python3"
  },
  "language_info": {
   "codemirror_mode": {
    "name": "ipython",
    "version": 3
   },
   "file_extension": ".py",
   "mimetype": "text/x-python",
   "name": "python",
   "nbconvert_exporter": "python",
   "pygments_lexer": "ipython3",
   "version": "3.8.3"
  }
 },
 "nbformat": 4,
 "nbformat_minor": 4
}
